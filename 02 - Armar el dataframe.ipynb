{
 "cells": [
  {
   "cell_type": "code",
   "execution_count": 21,
   "id": "7f6fb951-c4d4-482e-ab2b-0ac62b1566ce",
   "metadata": {},
   "outputs": [],
   "source": [
    "import pandas as pd\n"
   ]
  },
  {
   "cell_type": "code",
   "execution_count": 30,
   "id": "ce6c0c3f-1daa-4757-b582-5984de9b503c",
   "metadata": {},
   "outputs": [],
   "source": [
    "#importo todos los archivos y hago una lista de dataframes\n",
    "\n",
    "main=[]\n",
    "for i in range(1,56):\n",
    "    main.append(pd.read_csv(\"C:/Users/54357/Desktop/CONTACTS/cont (\"+str(i)+\").csv\",index_col=False))\n",
    "    "
   ]
  },
  {
   "cell_type": "code",
   "execution_count": 32,
   "id": "7143ce3a-a6c5-4092-8195-5036db1b229b",
   "metadata": {},
   "outputs": [],
   "source": [
    "#agarro los nombres de las columnas de cada df y los pongo en una lista de listas\n",
    "\n",
    "main_col=[]\n",
    "\n",
    "for df in main:\n",
    "    main_col.append(df.columns.to_list())"
   ]
  },
  {
   "cell_type": "code",
   "execution_count": 33,
   "id": "eb370a14-8e73-46ed-b140-f1fc69475a6e",
   "metadata": {},
   "outputs": [],
   "source": [
    "#creo una lista que va a contener todos los nombres de las columnas que existan (se inicia con los nombre de las col del primer df\n",
    "\n",
    "all_col=main_col[0]"
   ]
  },
  {
   "cell_type": "code",
   "execution_count": 34,
   "id": "3ac3962c-77f2-4e2f-9205-4e37f20e6502",
   "metadata": {},
   "outputs": [],
   "source": [
    "#completo mi lista de todas las columnas con las columnas que aparezcan en los otros df\n",
    "\n",
    "for lista in main_col:\n",
    "    for item in lista:\n",
    "        if item not in all_col:\n",
    "            all_col.append(item)\n",
    "            \n",
    "#ahora mi all_col está completo con todas los nombres que existan de columnas"
   ]
  },
  {
   "cell_type": "code",
   "execution_count": 35,
   "id": "e5219072-6622-4a55-a105-f11f0cc186cc",
   "metadata": {},
   "outputs": [
    {
     "data": {
      "text/plain": [
       "70"
      ]
     },
     "execution_count": 35,
     "metadata": {},
     "output_type": "execute_result"
    }
   ],
   "source": [
    "len(all_col)"
   ]
  },
  {
   "cell_type": "code",
   "execution_count": 36,
   "id": "b6ef979f-5712-4591-b120-ded048f78f01",
   "metadata": {},
   "outputs": [],
   "source": [
    "#acá agrego una columna vacia con el nombre de la columna faltante a cada DATAFRAME SI CORRESPONDE\n",
    "\n",
    "for i in range(len(main_col)):\n",
    "    for col in all_col:\n",
    "        if col not in main_col[i]:\n",
    "            main[i][col]=pd.Series(\"\")\n",
    "            \n",
    "#a esta altura ya todos mis df tienen la misma cantidad de columans con los mismos nombres "
   ]
  },
  {
   "cell_type": "code",
   "execution_count": 38,
   "id": "a62ea6e4-cc41-47c7-90be-bce5539ea0b9",
   "metadata": {},
   "outputs": [],
   "source": [
    "#por si el primer DF no se actualiza\n",
    "\n",
    "prim_col=main[0].columns.to_list()\n",
    "\n",
    "for col in all_col:\n",
    "    if col not in prim_col:\n",
    "        print(col)\n",
    "        main[0][col]=pd.Series(\"\")"
   ]
  },
  {
   "cell_type": "code",
   "execution_count": 39,
   "id": "d1ac1a6f-3f22-40b9-ba62-c20d04958afb",
   "metadata": {},
   "outputs": [
    {
     "name": "stdout",
     "output_type": "stream",
     "text": [
      "70\n",
      "70\n",
      "70\n",
      "70\n",
      "70\n",
      "70\n",
      "70\n",
      "70\n",
      "70\n",
      "70\n",
      "70\n",
      "70\n",
      "70\n",
      "70\n",
      "70\n",
      "70\n",
      "70\n",
      "70\n",
      "70\n",
      "70\n",
      "70\n",
      "70\n",
      "70\n",
      "70\n",
      "70\n",
      "70\n",
      "70\n",
      "70\n",
      "70\n",
      "70\n",
      "70\n",
      "70\n",
      "70\n",
      "70\n",
      "70\n",
      "70\n",
      "70\n",
      "70\n",
      "70\n",
      "70\n",
      "70\n",
      "70\n",
      "70\n",
      "70\n",
      "70\n",
      "70\n",
      "70\n",
      "70\n",
      "70\n",
      "70\n",
      "70\n",
      "70\n",
      "70\n",
      "70\n",
      "70\n"
     ]
    }
   ],
   "source": [
    "# para confirmar que cada df tiene la misma cantidad de columnas\n",
    "\n",
    "for i in range(55):\n",
    "    print(len(main[i].columns))"
   ]
  },
  {
   "cell_type": "markdown",
   "id": "989a6c2e-d37a-4f5f-93dc-ff8a82b0ee2f",
   "metadata": {},
   "source": [
    "sigue confirmar que todas los df tengan las misma columnas  (ya tienen el mismo tamaño)"
   ]
  },
  {
   "cell_type": "code",
   "execution_count": 40,
   "id": "78fd8b0d-c0e9-4377-8f0d-71fcb089cb44",
   "metadata": {},
   "outputs": [],
   "source": [
    "# para confirmar que todos los df tengan las mismas columnas (en cuanto a nombre)\n",
    "main_col=[]\n",
    "\n",
    "for df in main:\n",
    "    main_col.append(df.columns.to_list())"
   ]
  },
  {
   "cell_type": "code",
   "execution_count": 41,
   "id": "dd4b676f-329c-4034-8ab4-9655d4619b95",
   "metadata": {},
   "outputs": [
    {
     "data": {
      "text/plain": [
       "103950"
      ]
     },
     "execution_count": 41,
     "metadata": {},
     "output_type": "execute_result"
    }
   ],
   "source": [
    "ok=0\n",
    "for i in range(len(main_col)):\n",
    "    for item in main_col[i]:\n",
    "        for j in range(i+1,len(main_col)):\n",
    "            if item in main_col[j]:\n",
    "                ok+=1\n",
    "            else:\n",
    "                print(f'{item:<30} no está en la lista: {j}')\n",
    "\n",
    "ok #103905 es lo que me dió la priemra vez"
   ]
  },
  {
   "cell_type": "markdown",
   "id": "a9fa95f3-77e1-481c-aa75-ff46ac038568",
   "metadata": {},
   "source": [
    "Todas los df tienen las mismas columnas, ahora hay que ordenarlas"
   ]
  },
  {
   "cell_type": "code",
   "execution_count": 70,
   "id": "b5528fce-4fe9-4b75-abc3-a13c153ed230",
   "metadata": {},
   "outputs": [],
   "source": [
    "#creo una copia de la lsita de DFS\n",
    "\n",
    "MAIN=main.copy()"
   ]
  },
  {
   "cell_type": "code",
   "execution_count": 71,
   "id": "49f2d30e-61dd-4437-b441-aa3c15948aff",
   "metadata": {},
   "outputs": [],
   "source": [
    "#Edito los df de la copia con las columnas del df siempre en el mismo orden\n",
    "\n",
    "for i in range(len(MAIN)):\n",
    "    MAIN[i]=main[i][all_col]"
   ]
  },
  {
   "cell_type": "code",
   "execution_count": 77,
   "id": "76083bc8-4299-459f-b650-f3fa04ae9ad9",
   "metadata": {},
   "outputs": [],
   "source": [
    "#comparar que todos los df tengan las columnas ene l mismo orden\n",
    "for i in range(len(MAIN[0].columns)):\n",
    "    for df in MAIN:\n",
    "        if MAIN[0].columns[i]!=df.columns[i]:\n",
    "            print(df.columns[i])\n",
    "            \n",
    "            \n",
    "#todo OK"
   ]
  },
  {
   "cell_type": "markdown",
   "id": "2a9a8f7f-3341-4c1c-b286-2165dc7fc6fa",
   "metadata": {},
   "source": [
    "Ahora a cada df le tenemos que agregar una columna con el nombre de la cuenta que corresponde\n",
    "\n"
   ]
  },
  {
   "cell_type": "code",
   "execution_count": 87,
   "id": "0b30f7ed-2fa2-4fc5-8712-ca40bf66dcb3",
   "metadata": {},
   "outputs": [],
   "source": [
    "cuent=\"Aixa Landron Fatherson Realty Inc.,Alex Cordova,Art Mendoza Realtor,Belén Alcaraz Team,Blanca Cativo,Brett Baird - H&T Properties,Burnes International,Campos International Group - Maryland,Cardinal Financial Company,Casa Soñada KC,Century 21 Masters,Claudia White e Yvette Garay,Compra Casas en Tampa,David Torres,Derly Alvarez,Epifanio Almodovar The Federal Savings Bank,Francisco J. Cuza Mortgage Advisor,Gladis Madrid, Realtor,Grace Meza - Caddell,Gustavo Lopez,H&T Properties,Iowa Compra y Venta de Casas,Jennifer Toledo,Jenny Clement - Century 21 Visionary Group ,Jesus Century 21 Powerhouse Realty,Juan Celedon Real Estate,Juliana Espinosa with Realty ONE Group,Karla Rodriguez Realtor,Keller Williams Preferred Realty,Lady Martinez,Lake Michigan Realty Management,Leslie Garcia,Lise Real Estate,Mariela Martinez,Martha Turner Sotheby's International Realty,Miguel Hawkins Prestamista con Homestar,Miguel Perez Realtor,Milton Arroyo,Owner Financing Houston,PrimeTime Realtors,RAD Real Estate,RazrGroup,RE/MAX ONE PALMDALE,Ricardo Ruiz - GK Properties,Rivera Realty,Ruben Marron Broker,Ruben Regalado Care Real Estate,Ruth - Campos International Group,Stephanie Barreto,Sueños Unidos,The Alma Lind Team,Ulices Melendez con Alliance Real Estate,United Freedom Realty,Valeria Silva Realtor\"\n",
    "\n",
    "cuentas=cuent.split(\",\")"
   ]
  },
  {
   "cell_type": "code",
   "execution_count": 152,
   "id": "75834f61-3e80-47b0-b09d-398427104ef0",
   "metadata": {},
   "outputs": [],
   "source": [
    "serie = pd.Series(cuentas[0],range(len(MAIN[0])))"
   ]
  },
  {
   "cell_type": "code",
   "execution_count": 153,
   "id": "9a804d81-21c7-4a8f-9b92-3e0bdfb520d6",
   "metadata": {},
   "outputs": [
    {
     "name": "stderr",
     "output_type": "stream",
     "text": [
      "C:\\Users\\54357\\AppData\\Local\\Temp/ipykernel_13444/172704881.py:4: SettingWithCopyWarning: \n",
      "A value is trying to be set on a copy of a slice from a DataFrame.\n",
      "Try using .loc[row_indexer,col_indexer] = value instead\n",
      "\n",
      "See the caveats in the documentation: https://pandas.pydata.org/pandas-docs/stable/user_guide/indexing.html#returning-a-view-versus-a-copy\n",
      "  MAIN[i][\"SubAccount\"]=serie\n"
     ]
    }
   ],
   "source": [
    "#a cada DF le agrego una columna con el nombre de la cuenta al cual pertenecen\n",
    "\n",
    "for i in range(len(MAIN)):\n",
    "    serie = pd.Series(cuentas[i],range(len(MAIN[i])))\n",
    "                    \n",
    "    MAIN[i][\"SubAccount\"]=serie\n",
    "                    \n"
   ]
  },
  {
   "cell_type": "code",
   "execution_count": 177,
   "id": "28c10ca1-3751-4aa3-a4c8-bb8b7065f3a6",
   "metadata": {},
   "outputs": [],
   "source": [
    "#Acá concateno todos los DF y obtengo uno solo con toooooodos los contacts\n",
    "\n",
    "FullData=pd.concat(MAIN)\n"
   ]
  },
  {
   "cell_type": "code",
   "execution_count": 178,
   "id": "19f65958-b5dc-4708-bbf6-11fb3c063f60",
   "metadata": {},
   "outputs": [
    {
     "data": {
      "text/plain": [
       "(34669, 71)"
      ]
     },
     "execution_count": 178,
     "metadata": {},
     "output_type": "execute_result"
    }
   ],
   "source": [
    "FullData.shape"
   ]
  },
  {
   "cell_type": "code",
   "execution_count": 184,
   "id": "28be6ce4-4b31-462b-8f43-a640c886f207",
   "metadata": {},
   "outputs": [],
   "source": [
    "FullData.to_csv(\"FullDataframe.csv\")"
   ]
  }
 ],
 "metadata": {
  "kernelspec": {
   "display_name": "Python 3 (ipykernel)",
   "language": "python",
   "name": "python3"
  },
  "language_info": {
   "codemirror_mode": {
    "name": "ipython",
    "version": 3
   },
   "file_extension": ".py",
   "mimetype": "text/x-python",
   "name": "python",
   "nbconvert_exporter": "python",
   "pygments_lexer": "ipython3",
   "version": "3.9.7"
  }
 },
 "nbformat": 4,
 "nbformat_minor": 5
}
