{
 "cells": [
  {
   "attachments": {},
   "cell_type": "markdown",
   "id": "394b6f35-7375-456b-ab1f-be463ed86be9",
   "metadata": {},
   "source": [
    "# Intro\n",
    "En una empresa dedicada la generación de leads dentro del mercado del Real Estate en USA se necesita saber cuál es el anuncio de Facebook que más conversion rate tiene para cada cliente\n",
    "\n",
    "\n",
    "La empresa actualmente tiene alrededor de 50 clientes. Las herramientas son un CRM y Facebook Ads.\n",
    "El CRM permite exportar en CSV la información de los leads, previamente habiendo seleccionado la información que queremos de dichos leads y haberlos filtrado. Para esto, el CRM sólo brinda la posibilidad de seleccionar y filtrar manualmente cuenta por cuenta, por lo que necesitamos herramientas de Web Scrapping para facilitar el armado de la base de datos.\n",
    "Luego de eso se tiene que unir cada CSV para tener una sólo base de datos que a posterior se debera limpiar para poder realizar el análisis exploratorio.\n",
    "Ya con la base de datos lista, queda obtener la información necesaria, analizarla y presentarla para poder tomar decisiones en cuanto a la calidad de los Ads\n",
    "\n"
   ]
  },
  {
   "attachments": {},
   "cell_type": "markdown",
   "id": "29576c26-a2c3-4e72-886b-b7ba96a38c61",
   "metadata": {},
   "source": [
    "## Código"
   ]
  },
  {
   "cell_type": "code",
   "execution_count": 115,
   "id": "0fa081f8-27e6-4fe5-9eea-aa93cdf2a588",
   "metadata": {},
   "outputs": [],
   "source": [
    "# importamos todas las librerias necesarios\n",
    "\n",
    "from selenium import webdriver\n",
    "from selenium.webdriver.chrome.service import Service\n",
    "from selenium.webdriver.common.by import By\n",
    "from selenium.webdriver.common.keys import Keys\n",
    "import pandas as pd\n",
    "\n",
    "from selenium.webdriver.support.wait import WebDriverWait\n",
    "from selenium.webdriver.support import expected_conditions as EC"
   ]
  },
  {
   "cell_type": "code",
   "execution_count": 117,
   "id": "7ec75661-b936-4e37-9521-e73987202b00",
   "metadata": {},
   "outputs": [],
   "source": [
    "# Preparo el driver\n",
    "\n",
    "ser=Service('Documents/Programación/Web scrapping/Selenium/chromedriver.exe')\n",
    "driver = webdriver.Chrome(service=ser)"
   ]
  },
  {
   "cell_type": "code",
   "execution_count": 118,
   "id": "8afda8c0-2094-4c50-be38-1f0fd5c90a94",
   "metadata": {},
   "outputs": [],
   "source": [
    "# Abro la pagina principal del CRM\n",
    "\n",
    "url = \"https://login.CRMNAME.org/\"\n",
    "\n",
    "driver.get(url)\n",
    "time.sleep(2)\n"
   ]
  },
  {
   "cell_type": "code",
   "execution_count": 119,
   "id": "6c28fe4c-9e46-42f5-b05e-ee5094fd1284",
   "metadata": {},
   "outputs": [
    {
     "name": "stdout",
     "output_type": "stream",
     "text": [
      " 419868\n"
     ]
    }
   ],
   "source": [
    "#INICIO SESIÓN CON CODIGO DE SEGURIDAD\n",
    "\n",
    "\n",
    "#cargo las credenciales\n",
    "user= input()      #configurar interfaz del input\n",
    "passw= input()     #configurar interfaz del input    \n",
    "\n",
    "\n",
    "#ingreso las credenciales en los campos\n",
    "driver.find_element(by=By.XPATH,value='//INPUT[@name=\"email\"]').send_keys(user)\n",
    "driver.find_element(by=By.XPATH,value='//INPUT[@name=\"password\"]').send_keys(passw)\n",
    "\n",
    "driver.find_element(by=By.XPATH,value='//*[@id=\"app\"]/div[3]/section/div[2]/div/div/div/div[4]/div[2]/button').click()\n",
    "time.sleep(2)\n",
    "\n",
    "#ya en la siguiente pantalla realizo el envío de \n",
    "boton_sendcode = driver.find_element(by=By.XPATH,value='/html/body/div[1]/div[3]/section/div[2]/div/div/div/div/div[3]/div[2]/button')\n",
    "boton_sendcode.click()\n",
    "\n",
    "sec_code=input()\n",
    "\n",
    "for i in range(1,7):\n",
    "    input_code= driver.find_element(by=By.XPATH,value='//*[@id=\"app\"]/div[3]/section/div[2]/div/div/div/div/div[3]/div/div/div['+str(i)+']/input')\n",
    "    input_code.send_keys(sec_code[i-1])\n",
    "\n",
    "confirm_code = driver.find_element(by=By.XPATH,value='//*[@id=\"app\"]/div[3]/section/div[2]/div/div/div/div/div[4]/div[2]/button')\n",
    "confirm_code.click()"
   ]
  },
  {
   "cell_type": "markdown",
   "id": "e1c50840-7344-4349-a00c-246d23a29d09",
   "metadata": {},
   "source": [
    "A esta altura ya estamos logueados en el CRM en la página /angecy_dashboard\n",
    "\n",
    "\n",
    "\n",
    "\n",
    "\n",
    "\n"
   ]
  },
  {
   "cell_type": "code",
   "execution_count": 120,
   "id": "e56911d6-c2ee-4805-bda5-b5e95719e404",
   "metadata": {},
   "outputs": [],
   "source": [
    "#PREPARAMOS UNA FUNCIÓN PARA SELECCIONAR TODAS LAS COLUMNAS PARA QUE SE INCLUYAN EN LA EXPORTACION\n",
    "\n",
    "def select_all_columns(driver):\n",
    "    driver.find_element(by=By.XPATH,value='//*[@id=\"colViewButton\"]').click()\n",
    "    try:\n",
    "        driver.find_element(by=By.XPATH,value='//*[@id=\"colViewButton\"]').click()\n",
    "    except:\n",
    "        next\n",
    "    columns=driver.find_elements(by=By.XPATH,value='/html/body/div[1]/div[3]/section/div/section/div[2]/div[2]/div[1]/ul//li')\n",
    "    for i in range(len(columns)-6):\n",
    "        driver.find_element(by=By.XPATH,value='/html/body/div[1]/div[3]/section/div/section/div[2]/div[2]/div[1]/ul/li['+str(len(columns))+']/div/input').click()\n",
    "        time.sleep(0.2)"
   ]
  },
  {
   "cell_type": "code",
   "execution_count": 134,
   "id": "f045f295-14cd-4e3f-b156-46ed4f1f9f92",
   "metadata": {},
   "outputs": [],
   "source": [
    "#FUNCION PARA DESCARGAR LA SMAT LIST YA ESTANDO FILTRADA Y CON LAS COLUMNAS SELECCIONADAS\n",
    "\n",
    "\n",
    "def desc(driver):\n",
    "    driver.find_element(by=By.XPATH,value='//*[@id=\"all\"]').click()    # seleccionar la lista\n",
    "    time.sleep(3)\n",
    "\n",
    "    try:    \n",
    "        driver.find_element(by=By.XPATH,value='//*[@id=\"hl_smartlists-main\"]/div[1]/div/div[1]/div/span[2]').click()    \n",
    "    except:\n",
    "        next\n",
    "        \n",
    "\n",
    "    boton= WebDriverWait(driver,10).until(EC.presence_of_element_located((By.XPATH,'//*[@id=\"smartlists\"]/div[2]/div[1]/span[10]/button')))\n",
    "    boton.click()    #boton para exportar ya estaado en la smartlist\n",
    "    \n",
    "    boton= WebDriverWait(driver,10).until(EC.presence_of_element_located((By.XPATH,'/html/body/div[7]/div[1]/div/div/div/div[2]/div/div/div/button')))\n",
    "    boton.click()    #boton para iniciar la descarga estando todo preparado\n",
    "    \n",
    "    time.sleep(1)\n",
    "    WebDriverWait(driver,20).until(EC.element_to_be_clickable((By.XPATH,'//*[@id=\"all\"]')))   \n"
   ]
  },
  {
   "cell_type": "code",
   "execution_count": 145,
   "id": "3e5b5b51-45d6-4f43-9b95-d640e991ad41",
   "metadata": {},
   "outputs": [],
   "source": [
    "#Armo la lista de los Ids de las cuentas para poder navegar entre todas ellas y realizar las descargas\n",
    "\n",
    "ALLS=\"6ZNDYU7FC7suAYtH81sC,vy3HXxVjRbBen4gDHTBT,335tvBVvpfEsc95omLWD\"  #pego los Ids de las cuentas con las que queiro trabajar\n",
    "\n",
    "ids=ALLS.split(\",\")   #armo la lista en base los Ids que pegué"
   ]
  },
  {
   "cell_type": "code",
   "execution_count": 146,
   "id": "2a759da4-ed91-45c0-83d0-6b22406a8199",
   "metadata": {},
   "outputs": [
    {
     "name": "stdout",
     "output_type": "stream",
     "text": [
      "6ZNDYU7FC7suAYtH81sC\n",
      "vy3HXxVjRbBen4gDHTBT\n",
      "335tvBVvpfEsc95omLWD\n"
     ]
    }
   ],
   "source": [
    "# EJECUTO SECUENCIA PARA DESCARGAR TODOS LOS CONTACTS CON TODAS LAS COLUMNAS\n",
    "#solo necesito estar logueado Y tener la lista de los ids de las cuentas que quiero descargar\n",
    "\n",
    "\n",
    "for i in ids:\n",
    "    url=\"https://CRMNAME.org/v2/location/\"+i+\"/contacts/smart_list/All\"\n",
    "    driver.get(url)\n",
    "    time.sleep(10)\n",
    "    select_all_columns(driver)  #preparo la lista\n",
    "    desc(driver)  #descargo las cuentas\n",
    "    print(i)  #voy imprimiendo los Ids de las cuentas que pude descargar\n"
   ]
  }
 ],
 "metadata": {
  "kernelspec": {
   "display_name": "Python 3 (ipykernel)",
   "language": "python",
   "name": "python3"
  },
  "language_info": {
   "codemirror_mode": {
    "name": "ipython",
    "version": 3
   },
   "file_extension": ".py",
   "mimetype": "text/x-python",
   "name": "python",
   "nbconvert_exporter": "python",
   "pygments_lexer": "ipython3",
   "version": "3.9.7"
  }
 },
 "nbformat": 4,
 "nbformat_minor": 5
}
