{
 "cells": [
  {
   "cell_type": "markdown",
   "id": "394b6f35-7375-456b-ab1f-be463ed86be9",
   "metadata": {},
   "source": [
    "# Intro  (contexto)\n",
    "\n",
    "## Contexto\n",
    "\n",
    "## Objetivo\n"
   ]
  },
  {
   "cell_type": "markdown",
   "id": "29576c26-a2c3-4e72-886b-b7ba96a38c61",
   "metadata": {},
   "source": [
    "## Breve descripción"
   ]
  },
  {
   "cell_type": "code",
   "execution_count": 115,
   "id": "0fa081f8-27e6-4fe5-9eea-aa93cdf2a588",
   "metadata": {},
   "outputs": [],
   "source": [
    "# importamos todas las librerias necesarios\n",
    "\n",
    "import time\n",
    "from selenium import webdriver\n",
    "from selenium.webdriver.chrome.service import Service\n",
    "from selenium.webdriver.common.by import By\n",
    "from selenium.webdriver.common.keys import Keys\n",
    "import pandas as pd\n",
    "\n",
    "from selenium.webdriver.support.wait import WebDriverWait\n",
    "from selenium.webdriver.support import expected_conditions as EC"
   ]
  },
  {
   "cell_type": "code",
   "execution_count": null,
   "id": "b88a461a-7ef6-4f05-8515-7154a8866d41",
   "metadata": {},
   "outputs": [],
   "source": []
  },
  {
   "cell_type": "code",
   "execution_count": 117,
   "id": "7ec75661-b936-4e37-9521-e73987202b00",
   "metadata": {},
   "outputs": [],
   "source": [
    "# Preparo el driver\n",
    "\n",
    "ser=Service('Documents/Programación/Web scrapping/Selenium/chromedriver.exe')\n",
    "driver = webdriver.Chrome(service=ser)"
   ]
  },
  {
   "cell_type": "code",
   "execution_count": 118,
   "id": "8afda8c0-2094-4c50-be38-1f0fd5c90a94",
   "metadata": {},
   "outputs": [],
   "source": [
    "# Abro la pagina principal del CRM\n",
    "\n",
    "url = \"https://login.CRMCRMCRM.org/\"\n",
    "\n",
    "driver.get(url)\n",
    "time.sleep(2)\n"
   ]
  },
  {
   "cell_type": "code",
   "execution_count": 119,
   "id": "6c28fe4c-9e46-42f5-b05e-ee5094fd1284",
   "metadata": {},
   "outputs": [
    {
     "name": "stdin",
     "output_type": "stream",
     "text": [
      " 419868\n"
     ]
    }
   ],
   "source": [
    "#INICIO SESIÓN INCLUIDO CODIGO DE SEGURIDAD\n",
    "\n",
    "\n",
    "#cargo las credenciales\n",
    "user= input()      #configurar interfaz del input\n",
    "passw= input()     #configurar interfaz del input    \n",
    "\n",
    "\n",
    "#ingreso las credenciales en los campos\n",
    "driver.find_element(by=By.XPATH,value='//INPUT[@name=\"email\"]').send_keys(user)\n",
    "driver.find_element(by=By.XPATH,value='//INPUT[@name=\"password\"]').send_keys(passw)\n",
    "\n",
    "driver.find_element(by=By.XPATH,value='//*[@id=\"app\"]/div[3]/section/div[2]/div/div/div/div[4]/div[2]/button').click()\n",
    "time.sleep(2)\n",
    "\n",
    "#ya en la siguiente pantalla realizo el envío de \n",
    "boton_sendcode = driver.find_element(by=By.XPATH,value='/html/body/div[1]/div[3]/section/div[2]/div/div/div/div/div[3]/div[2]/button')\n",
    "boton_sendcode.click()\n",
    "\n",
    "sec_code=input()\n",
    "\n",
    "for i in range(1,7):\n",
    "    input_code= driver.find_element(by=By.XPATH,value='//*[@id=\"app\"]/div[3]/section/div[2]/div/div/div/div/div[3]/div/div/div['+str(i)+']/input')\n",
    "    input_code.send_keys(sec_code[i-1])\n",
    "\n",
    "confirm_code = driver.find_element(by=By.XPATH,value='//*[@id=\"app\"]/div[3]/section/div[2]/div/div/div/div/div[4]/div[2]/button')\n",
    "confirm_code.click()"
   ]
  },
  {
   "cell_type": "markdown",
   "id": "e1c50840-7344-4349-a00c-246d23a29d09",
   "metadata": {},
   "source": [
    "A esta altura ya estamos logueados en el CRM en la página /angecy_dashboard\n",
    "\n",
    "\n",
    "\n",
    "\n",
    "\n",
    "\n"
   ]
  },
  {
   "cell_type": "code",
   "execution_count": null,
   "id": "06f968e8-6229-4f85-a835-e1172458d6a5",
   "metadata": {},
   "outputs": [],
   "source": [
    "#añado la columna \"Ad\" y filtro por leads en lead transferred\n",
    "\n",
    "def prep_list():\n",
    "    driver.find_element(by=By.XPATH,value='/html/body/div[1]/div[3]/section/div/section/div[2]/div[2]/div[1]/button').click()  #abro el selector de columnas\n",
    "    time.sleep(3)\n",
    "    driver.find_element(by=By.XPATH,value='/html/body/div[1]/div[3]/section/div/section/div[2]/div[2]/div[1]/button').click()  #abro el selector de columnas\n",
    "    time.sleep(3)\n",
    "    driver.find_element(by=By.XPATH,value='/html/body/div[1]/div[3]/section/div/section/div[2]/div[2]/div[1]/ul/li[7]/div/input').click()  #marco la columna Ad\n",
    "    time.sleep(2)\n",
    "    \n",
    "    #filtro por pipeline stage Lead Transferred\n",
    "    driver.find_element(by=By.XPATH,value='//*[@id=\"hl_smartlists--filter-btn\"]').click()  #abro el selector de filtros\n",
    "    time.sleep(2)\n",
    "    driver.find_element(by=By.XPATH,value='//*[@id=\"SmartListFilter-Opportunity_Information-Pipeline_Stage\"]').click()  #selecciono pipeline stage\n",
    "    time.sleep(2)\n",
    "    driver.find_element(by=By.XPATH,value='//*[@id=\"dropdownMenuButton1\"]').click()  #despliego para seleccionar la pipelinetime.sleep(2)\n",
    "    time.sleep(2)\n",
    "    driver.find_element(by=By.XPATH,value='/html/body/div[1]/div[3]/section/div/section/div[4]/div[2]/div/div[2]/div[4]/div/div/div/div/div[1]/div/div[1]').click()  #selecciono la primer pipe\n",
    "    time.sleep(2)\n",
    "    driver.find_element(by=By.XPATH,value='//*[@id=\"dropdownMenuButton2\"]').click() #despliego para seleccionar el stage\n",
    "    time.sleep(2)\n",
    "    driver.find_element(by=By.XPATH,value='/html/body/div[1]/div[3]/section/div/section/div[4]/div[2]/div/div[2]/div[4]/div/div/div/div/div[2]/div/div[10]').click() #selecciono lead transferred\n",
    "    time.sleep(2)\n",
    "    driver.find_element(by=By.XPATH,value='//*[@id=\"smartlists\"]/div[4]/div[2]/div/div[3]/div/button').click()  #aplico el filtro        \n",
    "    time.sleep(2)\n"
   ]
  },
  {
   "cell_type": "code",
   "execution_count": 120,
   "id": "e56911d6-c2ee-4805-bda5-b5e95719e404",
   "metadata": {},
   "outputs": [],
   "source": [
    "#para entrar a esta parte tienen que estar la pagina con el desplegable de las columnas abiertas y que sólo ya estén seleccionadas 6 columnas\n",
    "\n",
    "def select_all_columns(driver):\n",
    "    driver.find_element(by=By.XPATH,value='//*[@id=\"colViewButton\"]').click()\n",
    "    try:\n",
    "        driver.find_element(by=By.XPATH,value='//*[@id=\"colViewButton\"]').click()\n",
    "    except:\n",
    "        next\n",
    "    columns=driver.find_elements(by=By.XPATH,value='/html/body/div[1]/div[3]/section/div/section/div[2]/div[2]/div[1]/ul//li')\n",
    "    for i in range(len(columns)-6):\n",
    "        driver.find_element(by=By.XPATH,value='/html/body/div[1]/div[3]/section/div/section/div[2]/div[2]/div[1]/ul/li['+str(len(columns))+']/div/input').click()\n",
    "        time.sleep(0.2)"
   ]
  },
  {
   "cell_type": "code",
   "execution_count": 134,
   "id": "f045f295-14cd-4e3f-b156-46ed4f1f9f92",
   "metadata": {},
   "outputs": [],
   "source": [
    "#FUNCION PARA DESCARGAR LA SMAT LIST YA ESTANDO FILTRADA Y CON LAS COLUMNAS SELECCIONADAS\n",
    "\n",
    "\n",
    "def desc(driver):\n",
    "    driver.find_element(by=By.XPATH,value='//*[@id=\"all\"]').click()    # seleccionar la lista\n",
    "    time.sleep(3)\n",
    "\n",
    "    try:    \n",
    "        driver.find_element(by=By.XPATH,value='//*[@id=\"hl_smartlists-main\"]/div[1]/div/div[1]/div/span[2]').click()    \n",
    "    except:\n",
    "        next\n",
    "        \n",
    "\n",
    "    boton= WebDriverWait(driver,10).until(EC.presence_of_element_located((By.XPATH,'//*[@id=\"smartlists\"]/div[2]/div[1]/span[10]/button')))\n",
    "    boton.click()    #boton para exportar ya estaado en la smartlist\n",
    "    \n",
    "    boton= WebDriverWait(driver,10).until(EC.presence_of_element_located((By.XPATH,'/html/body/div[7]/div[1]/div/div/div/div[2]/div/div/div/button')))\n",
    "    boton.click()    #boton para iniciar la descarga estando todo preparado\n",
    "    \n",
    "    time.sleep(1)\n",
    "    WebDriverWait(driver,20).until(EC.element_to_be_clickable((By.XPATH,'//*[@id=\"all\"]')))   #revisar esta linea\n"
   ]
  },
  {
   "cell_type": "code",
   "execution_count": 145,
   "id": "3e5b5b51-45d6-4f43-9b95-d640e991ad41",
   "metadata": {},
   "outputs": [],
   "source": [
    "ALLS=\"6ZNDYU7FC7suAYtH81sC,vy3HXxVjRbBen4gDHTBT,335tvBVvpfEsc95omLWD\"\n",
    "\n",
    "ids=ALLS.split(\",\")"
   ]
  },
  {
   "cell_type": "code",
   "execution_count": null,
   "id": "9ab29866-88e1-4155-8dc6-780f42267287",
   "metadata": {},
   "outputs": [],
   "source": [
    "ids"
   ]
  },
  {
   "cell_type": "code",
   "execution_count": null,
   "id": "0ce14cd5-6e5c-4c03-9827-5550f91eceea",
   "metadata": {},
   "outputs": [],
   "source": [
    "# EJECUTO SECUENCIA PARA DESCARGAR LOS TRANSFERIDOS CON LA COLUMNA AD\n",
    "#solo necesito estar logueado Y tener la lsita de los ids de las cuentas que quiero descargar\n",
    "for i in ids:\n",
    "    url=\"https://login.murraymedia.org/v2/location/\"+i+\"/contacts/smart_list/All\"\n",
    "    driver.get(url)\n",
    "    time.sleep(10)\n",
    "    prep_list()\n",
    "    desc()\n"
   ]
  },
  {
   "cell_type": "code",
   "execution_count": 146,
   "id": "2a759da4-ed91-45c0-83d0-6b22406a8199",
   "metadata": {},
   "outputs": [
    {
     "name": "stdout",
     "output_type": "stream",
     "text": [
      "6ZNDYU7FC7suAYtH81sC\n",
      "vy3HXxVjRbBen4gDHTBT\n",
      "335tvBVvpfEsc95omLWD\n"
     ]
    }
   ],
   "source": [
    "# EJECUTO SECUENCIA PARA DESCARGAR TODOS LOS CONTACTS CON TODAS LAS COLUMNAS\n",
    "#solo necesito estar logueado Y tener la lista de los ids de las cuentas que quiero descargar\n",
    "for i in ids:\n",
    "    url=\"https://login.murraymedia.org/v2/location/\"+i+\"/contacts/smart_list/All\"\n",
    "    driver.get(url)\n",
    "    time.sleep(10)\n",
    "    select_all_columns(driver)  #esto sería preparar la lista full\n",
    "    desc(driver)\n",
    "    print(i)\n"
   ]
  },
  {
   "cell_type": "code",
   "execution_count": null,
   "id": "5fc9e22a-287b-4c3b-9284-794cf1134ab1",
   "metadata": {},
   "outputs": [],
   "source": []
  },
  {
   "cell_type": "code",
   "execution_count": null,
   "id": "fd6a319a-75fc-4049-b616-8fa373941c61",
   "metadata": {},
   "outputs": [],
   "source": [
    "url=\"https://login.murraymedia.org/v2/location/1OR0TrE51C0cICLHLUlp/contacts/smart_list/All\"\n",
    "driver.get(url)\n",
    "time.sleep(10)"
   ]
  },
  {
   "cell_type": "code",
   "execution_count": null,
   "id": "fceeb522-ed0b-4226-9241-fb660fe3bacf",
   "metadata": {},
   "outputs": [],
   "source": [
    "driver.find_element(by=By.XPATH,value='//*[@id=\"colViewButton\"]').click()\n",
    "try:\n",
    "    driver.find_element(by=By.XPATH,value='//*[@id=\"colViewButton\"]').click()\n",
    "except:\n",
    "    next\n"
   ]
  },
  {
   "cell_type": "code",
   "execution_count": 84,
   "id": "0af53c01-8223-4bf0-8d52-c94e7acadcff",
   "metadata": {},
   "outputs": [],
   "source": [
    "##Actualizar custom field\n",
    "url=\"https://login.murraymedia.org/v2/location/\"+str(ids[0])+\"/contacts/smart_list/All\"\n",
    "driver.get(url)\n",
    "time.sleep(10)\n",
    "\n",
    "# columns=driver.find_elements(by=By.XPATH,value='/html/body/div[1]/div[3]/section/div/section/div[2]/div[2]/div[1]/ul//li')\n",
    "# for i in range(len(columns)-6):\n",
    "#     driver.find_element(by=By.XPATH,value='/html/body/div[1]/div[3]/section/div/section/div[2]/div[2]/div[1]/ul/li['+str(len(columns))+']/div/input').click()\n",
    "#     time.sleep(0.2)"
   ]
  },
  {
   "cell_type": "code",
   "execution_count": null,
   "id": "58e1c655-0f3d-4fd3-9279-a15359da12e6",
   "metadata": {},
   "outputs": [],
   "source": [
    "boton= WebDriverWait(driver,10).until(EC.presence_of_element_located((By.XPATH,'')))\n",
    "boton.click()"
   ]
  },
  {
   "cell_type": "code",
   "execution_count": 114,
   "id": "402a3f6f-f8a8-4fd6-a218-88d6f77f54d1",
   "metadata": {},
   "outputs": [],
   "source": [
    "#selecciono todos los contacts\n",
    "driver.find_element(by=By.XPATH,value='//*[@id=\"all\"]').click()    # seleccionar la lista\n",
    "time.sleep(3)\n",
    "\n",
    "try:    \n",
    "    driver.find_element(by=By.XPATH,value='//*[@id=\"hl_smartlists-main\"]/div[1]/div/div[1]/div/span[2]').click()    \n",
    "except:\n",
    "    next\n",
    "      \n",
    "boton= WebDriverWait(driver,10).until(EC.presence_of_element_located((By.XPATH,'//*[@id=\"smartlists\"]/div[2]/div[1]/span[3]/button')))\n",
    "boton.click()  #click en addowrkflow\n",
    "\n",
    "boton= WebDriverWait(driver,10).until(EC.presence_of_element_located((By.XPATH,'/html/body/div[7]/div[1]/div/div/div/div/div/div[2]/div[2]/div/button')))\n",
    "boton.click() #click en ok procedd\n",
    "\n",
    "boxinput= WebDriverWait(driver,10).until(EC.presence_of_element_located((By.XPATH,'/html/body/div[7]/div[1]/div/div/div/div/div/div[2]/div[1]/div/div[1]/div/div/div/div[1]/input')))\n",
    "boxinput.send_keys('Workflow - Actualizar custom field')\n",
    "boxinput.send_keys(Keys.ENTER)\n",
    "\n",
    "boxinput= WebDriverWait(driver,10).until(EC.presence_of_element_located((By.XPATH,'/html/body/div[7]/div[1]/div/div/div/div/div/div[2]/div[1]/div/div[4]/div/input')))\n",
    "boxinput.send_keys('update')\n",
    "time.sleep(1)\n",
    "boxinput.send_keys(Keys.ENTER)\n",
    "\n",
    "boton= WebDriverWait(driver,10).until(EC.presence_of_element_located((By.XPATH,'/html/body/div[7]/div[1]/div/div/div/div/div/div[2]/div[2]/div/button')))\n",
    "boton.click()\n",
    "\n",
    "boton= WebDriverWait(driver,10).until(EC.presence_of_element_located((By.XPATH,'/html/body/div[7]/div[1]/div/div/div/div/div/div[2]/div[2]/div/button')))\n",
    "boton.click()"
   ]
  },
  {
   "cell_type": "code",
   "execution_count": 109,
   "id": "2623813c-cf46-4834-9e38-b15d286ee510",
   "metadata": {},
   "outputs": [],
   "source": [
    "boxinput= WebDriverWait(driver,10).until(EC.presence_of_element_located((By.XPATH,'/html/body/div[7]/div[1]/div/div/div/div/div/div[2]/div[1]/div/div[1]/div/div/div/div[1]/input')))\n",
    "boxinput.send_keys('Workflow - Actualizar custom field')\n",
    "boxinput.send_keys(Keys.ENTER)\n"
   ]
  },
  {
   "cell_type": "code",
   "execution_count": 112,
   "id": "35ca2e17-f912-4dde-b395-293fed4121fc",
   "metadata": {},
   "outputs": [],
   "source": [
    "boxinput= WebDriverWait(driver,10).until(EC.presence_of_element_located((By.XPATH,'/html/body/div[7]/div[1]/div/div/div/div/div/div[2]/div[1]/div/div[4]/div/input')))\n",
    "boxinput.send_keys('update')"
   ]
  },
  {
   "cell_type": "code",
   "execution_count": null,
   "id": "53bbb43e-ddd2-4a72-af87-65c15f0d1b30",
   "metadata": {},
   "outputs": [],
   "source": [
    "dir(boxinput)"
   ]
  },
  {
   "cell_type": "code",
   "execution_count": 100,
   "id": "28b381e6-2d7e-4d07-9138-63cdf2065b7d",
   "metadata": {},
   "outputs": [],
   "source": [
    "boton= WebDriverWait(driver,10).until(EC.presence_of_element_located((By.XPATH,'/html/body/div[7]/div[1]/div/div/div/div/div/div[2]/div[2]/div/button')))\n",
    "boton.click()"
   ]
  },
  {
   "cell_type": "code",
   "execution_count": 133,
   "id": "d16a24d6-9348-493a-a555-22b13ccc56b1",
   "metadata": {},
   "outputs": [
    {
     "data": {
      "text/plain": [
       "['NoAlertPresentException',\n",
       " 'NoSuchElementException',\n",
       " 'NoSuchFrameException',\n",
       " 'StaleElementReferenceException',\n",
       " 'WebDriverException',\n",
       " 'WebElement',\n",
       " '__builtins__',\n",
       " '__cached__',\n",
       " '__doc__',\n",
       " '__file__',\n",
       " '__loader__',\n",
       " '__name__',\n",
       " '__package__',\n",
       " '__spec__',\n",
       " '_element_if_visible',\n",
       " 'alert_is_present',\n",
       " 'all_of',\n",
       " 'any_of',\n",
       " 'element_attribute_to_include',\n",
       " 'element_located_selection_state_to_be',\n",
       " 'element_located_to_be_selected',\n",
       " 'element_selection_state_to_be',\n",
       " 'element_to_be_clickable',\n",
       " 'element_to_be_selected',\n",
       " 'frame_to_be_available_and_switch_to_it',\n",
       " 'invisibility_of_element',\n",
       " 'invisibility_of_element_located',\n",
       " 'new_window_is_opened',\n",
       " 'none_of',\n",
       " 'number_of_windows_to_be',\n",
       " 'presence_of_all_elements_located',\n",
       " 'presence_of_element_located',\n",
       " 're',\n",
       " 'staleness_of',\n",
       " 'text_to_be_present_in_element',\n",
       " 'text_to_be_present_in_element_attribute',\n",
       " 'text_to_be_present_in_element_value',\n",
       " 'title_contains',\n",
       " 'title_is',\n",
       " 'url_changes',\n",
       " 'url_contains',\n",
       " 'url_matches',\n",
       " 'url_to_be',\n",
       " 'visibility_of',\n",
       " 'visibility_of_all_elements_located',\n",
       " 'visibility_of_any_elements_located',\n",
       " 'visibility_of_element_located']"
      ]
     },
     "execution_count": 133,
     "metadata": {},
     "output_type": "execute_result"
    }
   ],
   "source": [
    "dir(EC\n",
    ")"
   ]
  }
 ],
 "metadata": {
  "kernelspec": {
   "display_name": "Python 3 (ipykernel)",
   "language": "python",
   "name": "python3"
  },
  "language_info": {
   "codemirror_mode": {
    "name": "ipython",
    "version": 3
   },
   "file_extension": ".py",
   "mimetype": "text/x-python",
   "name": "python",
   "nbconvert_exporter": "python",
   "pygments_lexer": "ipython3",
   "version": "3.9.7"
  }
 },
 "nbformat": 4,
 "nbformat_minor": 5
}
