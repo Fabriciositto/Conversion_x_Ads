{
 "cells": [
  {
   "cell_type": "code",
   "execution_count": 21,
   "id": "7f6fb951-c4d4-482e-ab2b-0ac62b1566ce",
   "metadata": {},
   "outputs": [],
   "source": [
    "import pandas as pd\n"
   ]
  },
  {
   "cell_type": "code",
   "execution_count": 30,
   "id": "ce6c0c3f-1daa-4757-b582-5984de9b503c",
   "metadata": {},
   "outputs": [],
   "source": [
    "#importo todos los archivos y hago una lsita de dataframes\n",
    "\n",
    "main=[]\n",
    "for i in range(1,56):\n",
    "    main.append(pd.read_csv(\"C:/Users/54357/Desktop/CONTACTS/cont (\"+str(i)+\").csv\",index_col=False))\n",
    "    "
   ]
  },
  {
   "cell_type": "code",
   "execution_count": 32,
   "id": "7143ce3a-a6c5-4092-8195-5036db1b229b",
   "metadata": {},
   "outputs": [],
   "source": [
    "#agarro los nombres de las columnas de cada df y los pongo en una lista de listas\n",
    "\n",
    "main_col=[]\n",
    "\n",
    "for df in main:\n",
    "    main_col.append(df.columns.to_list())"
   ]
  },
  {
   "cell_type": "code",
   "execution_count": 33,
   "id": "eb370a14-8e73-46ed-b140-f1fc69475a6e",
   "metadata": {},
   "outputs": [],
   "source": [
    "#creo una lista que va a contener todos los nombres de las columnas que existan (se inicia con los nombre de las col del primer df\n",
    "\n",
    "all_col=main_col[0]"
   ]
  },
  {
   "cell_type": "code",
   "execution_count": 34,
   "id": "3ac3962c-77f2-4e2f-9205-4e37f20e6502",
   "metadata": {},
   "outputs": [],
   "source": [
    "#completo mi lista de todas las columnas con las columnas que aparezcan en los otros df\n",
    "\n",
    "for lista in main_col:\n",
    "    for item in lista:\n",
    "        if item not in all_col:\n",
    "            all_col.append(item)\n",
    "            \n",
    "#ahora mi all_col está completo con todas los nombres que existan de columnas"
   ]
  },
  {
   "cell_type": "code",
   "execution_count": 35,
   "id": "e5219072-6622-4a55-a105-f11f0cc186cc",
   "metadata": {},
   "outputs": [
    {
     "data": {
      "text/plain": [
       "70"
      ]
     },
     "execution_count": 35,
     "metadata": {},
     "output_type": "execute_result"
    }
   ],
   "source": [
    "len(all_col)"
   ]
  },
  {
   "cell_type": "code",
   "execution_count": 36,
   "id": "b6ef979f-5712-4591-b120-ded048f78f01",
   "metadata": {},
   "outputs": [],
   "source": [
    "#acá agrego una columna vacia con el nombre de la columna faltante a cada DATAFRAME SI CORRESPONDE\n",
    "\n",
    "for i in range(len(main_col)):\n",
    "    for col in all_col:\n",
    "        if col not in main_col[i]:\n",
    "            main[i][col]=pd.Series(\"\")\n",
    "            \n",
    "#a esta altura ya todos mis df tienen la misma cantidad de columans con los mismos nombres "
   ]
  },
  {
   "cell_type": "code",
   "execution_count": 38,
   "id": "a62ea6e4-cc41-47c7-90be-bce5539ea0b9",
   "metadata": {},
   "outputs": [],
   "source": [
    "#por si el primer DF no se actualiza\n",
    "\n",
    "prim_col=main[0].columns.to_list()\n",
    "\n",
    "for col in all_col:\n",
    "    if col not in prim_col:\n",
    "        print(col)\n",
    "        main[0][col]=pd.Series(\"\")"
   ]
  },
  {
   "cell_type": "code",
   "execution_count": 39,
   "id": "d1ac1a6f-3f22-40b9-ba62-c20d04958afb",
   "metadata": {},
   "outputs": [
    {
     "name": "stdout",
     "output_type": "stream",
     "text": [
      "70\n",
      "70\n",
      "70\n",
      "70\n",
      "70\n",
      "70\n",
      "70\n",
      "70\n",
      "70\n",
      "70\n",
      "70\n",
      "70\n",
      "70\n",
      "70\n",
      "70\n",
      "70\n",
      "70\n",
      "70\n",
      "70\n",
      "70\n",
      "70\n",
      "70\n",
      "70\n",
      "70\n",
      "70\n",
      "70\n",
      "70\n",
      "70\n",
      "70\n",
      "70\n",
      "70\n",
      "70\n",
      "70\n",
      "70\n",
      "70\n",
      "70\n",
      "70\n",
      "70\n",
      "70\n",
      "70\n",
      "70\n",
      "70\n",
      "70\n",
      "70\n",
      "70\n",
      "70\n",
      "70\n",
      "70\n",
      "70\n",
      "70\n",
      "70\n",
      "70\n",
      "70\n",
      "70\n",
      "70\n"
     ]
    }
   ],
   "source": [
    "# para confirmar que cada df tiene la misma cantidad de columnas\n",
    "\n",
    "for i in range(55):\n",
    "    print(len(main[i].columns))"
   ]
  },
  {
   "cell_type": "markdown",
   "id": "989a6c2e-d37a-4f5f-93dc-ff8a82b0ee2f",
   "metadata": {},
   "source": [
    "sigue confirmar que todas los df tengan las misma columnas  (ya tienen el mismo tamaño)"
   ]
  },
  {
   "cell_type": "code",
   "execution_count": 40,
   "id": "78fd8b0d-c0e9-4377-8f0d-71fcb089cb44",
   "metadata": {},
   "outputs": [],
   "source": [
    "# para confirmar que todos los df tengan las mismas columnas (en cuanto a nombre)\n",
    "main_col=[]\n",
    "\n",
    "for df in main:\n",
    "    main_col.append(df.columns.to_list())"
   ]
  },
  {
   "cell_type": "code",
   "execution_count": 41,
   "id": "dd4b676f-329c-4034-8ab4-9655d4619b95",
   "metadata": {},
   "outputs": [
    {
     "data": {
      "text/plain": [
       "103950"
      ]
     },
     "execution_count": 41,
     "metadata": {},
     "output_type": "execute_result"
    }
   ],
   "source": [
    "ok=0\n",
    "for i in range(len(main_col)):\n",
    "    for item in main_col[i]:\n",
    "        for j in range(i+1,len(main_col)):\n",
    "            if item in main_col[j]:\n",
    "                ok+=1\n",
    "            else:\n",
    "                print(f'{item:<30} no está en la lista: {j}')\n",
    "\n",
    "ok #103905 es lo que me dió la priemra vez"
   ]
  },
  {
   "cell_type": "markdown",
   "id": "a9fa95f3-77e1-481c-aa75-ff46ac038568",
   "metadata": {},
   "source": [
    "Todas los df tienen las mismas columnas, ahora hay que ordenarlas"
   ]
  },
  {
   "cell_type": "code",
   "execution_count": 70,
   "id": "b5528fce-4fe9-4b75-abc3-a13c153ed230",
   "metadata": {},
   "outputs": [],
   "source": [
    "#creo una copia de la lsita de DFS\n",
    "\n",
    "MAIN=main.copy()"
   ]
  },
  {
   "cell_type": "code",
   "execution_count": 71,
   "id": "49f2d30e-61dd-4437-b441-aa3c15948aff",
   "metadata": {},
   "outputs": [],
   "source": [
    "#Edito los df de la copia con las columnas del df siempre en el mismo orden\n",
    "\n",
    "for i in range(len(MAIN)):\n",
    "    MAIN[i]=main[i][all_col]"
   ]
  },
  {
   "cell_type": "code",
   "execution_count": 77,
   "id": "76083bc8-4299-459f-b650-f3fa04ae9ad9",
   "metadata": {},
   "outputs": [],
   "source": [
    "#comparar que todos los df tengan las columnas ene l mismo orden\n",
    "for i in range(len(MAIN[0].columns)):\n",
    "    for df in MAIN:\n",
    "        if MAIN[0].columns[i]!=df.columns[i]:\n",
    "            print(df.columns[i])\n",
    "            \n",
    "            \n",
    "#todo OK"
   ]
  },
  {
   "cell_type": "markdown",
   "id": "2a9a8f7f-3341-4c1c-b286-2165dc7fc6fa",
   "metadata": {},
   "source": [
    "Ahora a cada df le tenemos que agregar una columna con el nombre de la cuenta que corresponde\n",
    "\n"
   ]
  },
  {
   "cell_type": "code",
   "execution_count": 87,
   "id": "0b30f7ed-2fa2-4fc5-8712-ca40bf66dcb3",
   "metadata": {},
   "outputs": [],
   "source": [
    "cuent=\"Aixa Landron Fatherson Realty Inc.,Alex Cordova,Art Mendoza Realtor,Belén Alcaraz Team,Blanca Cativo,Brett Baird - H&T Properties,Burnes International,Campos International Group - Maryland,Cardinal Financial Company,Casa Soñada KC,Century 21 Masters,Claudia White e Yvette Garay,Compra Casas en Tampa,David Torres,Derly Alvarez,Epifanio Almodovar The Federal Savings Bank,Francisco J. Cuza Mortgage Advisor,Gladis Madrid, Realtor,Grace Meza - Caddell,Gustavo Lopez,H&T Properties,Iowa Compra y Venta de Casas,Jennifer Toledo,Jenny Clement - Century 21 Visionary Group ,Jesus Century 21 Powerhouse Realty,Juan Celedon Real Estate,Juliana Espinosa with Realty ONE Group,Karla Rodriguez Realtor,Keller Williams Preferred Realty,Lady Martinez,Lake Michigan Realty Management,Leslie Garcia,Lise Real Estate,Mariela Martinez,Martha Turner Sotheby's International Realty,Miguel Hawkins Prestamista con Homestar,Miguel Perez Realtor,Milton Arroyo,Owner Financing Houston,PrimeTime Realtors,RAD Real Estate,RazrGroup,RE/MAX ONE PALMDALE,Ricardo Ruiz - GK Properties,Rivera Realty,Ruben Marron Broker,Ruben Regalado Care Real Estate,Ruth - Campos International Group,Stephanie Barreto,Sueños Unidos,The Alma Lind Team,Ulices Melendez con Alliance Real Estate,United Freedom Realty,Valeria Silva Realtor\"\n",
    "\n",
    "cuentas=cuent.split(\",\")"
   ]
  },
  {
   "cell_type": "code",
   "execution_count": 152,
   "id": "75834f61-3e80-47b0-b09d-398427104ef0",
   "metadata": {},
   "outputs": [],
   "source": [
    "serie = pd.Series(cuentas[0],range(len(MAIN[0])))"
   ]
  },
  {
   "cell_type": "code",
   "execution_count": 153,
   "id": "9a804d81-21c7-4a8f-9b92-3e0bdfb520d6",
   "metadata": {},
   "outputs": [
    {
     "name": "stderr",
     "output_type": "stream",
     "text": [
      "C:\\Users\\54357\\AppData\\Local\\Temp/ipykernel_13444/172704881.py:4: SettingWithCopyWarning: \n",
      "A value is trying to be set on a copy of a slice from a DataFrame.\n",
      "Try using .loc[row_indexer,col_indexer] = value instead\n",
      "\n",
      "See the caveats in the documentation: https://pandas.pydata.org/pandas-docs/stable/user_guide/indexing.html#returning-a-view-versus-a-copy\n",
      "  MAIN[i][\"SubAccount\"]=serie\n"
     ]
    }
   ],
   "source": [
    "#a cada DF le agrego una columna con el nombre de la cuenta al cual pertenecen\n",
    "\n",
    "for i in range(len(MAIN)):\n",
    "    serie = pd.Series(cuentas[i],range(len(MAIN[i])))\n",
    "                    \n",
    "    MAIN[i][\"SubAccount\"]=serie\n",
    "                    \n"
   ]
  },
  {
   "cell_type": "code",
   "execution_count": 177,
   "id": "28c10ca1-3751-4aa3-a4c8-bb8b7065f3a6",
   "metadata": {},
   "outputs": [],
   "source": [
    "#Acá concateno todos los DF y obtengo uno solo con toooooodos los contacts\n",
    "\n",
    "FullData=pd.concat(MAIN)\n"
   ]
  },
  {
   "cell_type": "code",
   "execution_count": 178,
   "id": "19f65958-b5dc-4708-bbf6-11fb3c063f60",
   "metadata": {},
   "outputs": [
    {
     "data": {
      "text/plain": [
       "(34669, 71)"
      ]
     },
     "execution_count": 178,
     "metadata": {},
     "output_type": "execute_result"
    }
   ],
   "source": [
    "FullData.shape"
   ]
  },
  {
   "cell_type": "code",
   "execution_count": 184,
   "id": "28be6ce4-4b31-462b-8f43-a640c886f207",
   "metadata": {},
   "outputs": [],
   "source": [
    "FullData.to_csv(\"FullContacts.csv\")"
   ]
  },
  {
   "cell_type": "markdown",
   "id": "e42c8e85-c580-498d-89d6-1ff94b015d6c",
   "metadata": {},
   "source": [
    "\n",
    "TEST\n",
    "\n",
    "\n",
    "\n",
    "\n",
    "\n",
    "\n",
    "\n",
    "\n",
    "\n",
    "\n",
    "\n",
    "\n",
    "\n",
    "\n",
    "\n",
    "\n",
    "\n",
    "\n",
    "\n",
    "TEST\n"
   ]
  },
  {
   "cell_type": "code",
   "execution_count": 101,
   "id": "8e72a42d-37ad-4e78-9524-937284fc2ab8",
   "metadata": {},
   "outputs": [
    {
     "data": {
      "text/html": [
       "<div>\n",
       "<style scoped>\n",
       "    .dataframe tbody tr th:only-of-type {\n",
       "        vertical-align: middle;\n",
       "    }\n",
       "\n",
       "    .dataframe tbody tr th {\n",
       "        vertical-align: top;\n",
       "    }\n",
       "\n",
       "    .dataframe thead th {\n",
       "        text-align: right;\n",
       "    }\n",
       "</style>\n",
       "<table border=\"1\" class=\"dataframe\">\n",
       "  <thead>\n",
       "    <tr style=\"text-align: right;\">\n",
       "      <th></th>\n",
       "      <th>col1</th>\n",
       "      <th>col2</th>\n",
       "      <th>col3</th>\n",
       "    </tr>\n",
       "  </thead>\n",
       "  <tbody>\n",
       "    <tr>\n",
       "      <th>0</th>\n",
       "      <td>1</td>\n",
       "      <td>6</td>\n",
       "      <td>11</td>\n",
       "    </tr>\n",
       "    <tr>\n",
       "      <th>1</th>\n",
       "      <td>2</td>\n",
       "      <td>7</td>\n",
       "      <td>12</td>\n",
       "    </tr>\n",
       "    <tr>\n",
       "      <th>2</th>\n",
       "      <td>3</td>\n",
       "      <td>8</td>\n",
       "      <td>13</td>\n",
       "    </tr>\n",
       "    <tr>\n",
       "      <th>3</th>\n",
       "      <td>4</td>\n",
       "      <td>9</td>\n",
       "      <td>14</td>\n",
       "    </tr>\n",
       "    <tr>\n",
       "      <th>4</th>\n",
       "      <td>5</td>\n",
       "      <td>10</td>\n",
       "      <td>15</td>\n",
       "    </tr>\n",
       "  </tbody>\n",
       "</table>\n",
       "</div>"
      ],
      "text/plain": [
       "   col1  col2  col3\n",
       "0     1     6    11\n",
       "1     2     7    12\n",
       "2     3     8    13\n",
       "3     4     9    14\n",
       "4     5    10    15"
      ]
     },
     "execution_count": 101,
     "metadata": {},
     "output_type": "execute_result"
    }
   ],
   "source": [
    "test=pd.DataFrame({\"col1\":[1,2,3,4,5],\"col2\":[6,7,8,9,10],\"col3\":[11,12,13,14,15]})\n",
    "test"
   ]
  },
  {
   "cell_type": "code",
   "execution_count": 102,
   "id": "f2ba1ad2-8fea-440b-ae07-7a30229a5995",
   "metadata": {},
   "outputs": [],
   "source": [
    "test_col=[\"col2\",\"col3\",\"col1\"]"
   ]
  },
  {
   "cell_type": "code",
   "execution_count": 103,
   "id": "cee4f0ae-ff7d-4d8e-ba83-ec3d6f4a5d15",
   "metadata": {},
   "outputs": [
    {
     "data": {
      "text/html": [
       "<div>\n",
       "<style scoped>\n",
       "    .dataframe tbody tr th:only-of-type {\n",
       "        vertical-align: middle;\n",
       "    }\n",
       "\n",
       "    .dataframe tbody tr th {\n",
       "        vertical-align: top;\n",
       "    }\n",
       "\n",
       "    .dataframe thead th {\n",
       "        text-align: right;\n",
       "    }\n",
       "</style>\n",
       "<table border=\"1\" class=\"dataframe\">\n",
       "  <thead>\n",
       "    <tr style=\"text-align: right;\">\n",
       "      <th></th>\n",
       "      <th>col2</th>\n",
       "      <th>col3</th>\n",
       "      <th>col1</th>\n",
       "    </tr>\n",
       "  </thead>\n",
       "  <tbody>\n",
       "    <tr>\n",
       "      <th>0</th>\n",
       "      <td>6</td>\n",
       "      <td>11</td>\n",
       "      <td>1</td>\n",
       "    </tr>\n",
       "    <tr>\n",
       "      <th>1</th>\n",
       "      <td>7</td>\n",
       "      <td>12</td>\n",
       "      <td>2</td>\n",
       "    </tr>\n",
       "    <tr>\n",
       "      <th>2</th>\n",
       "      <td>8</td>\n",
       "      <td>13</td>\n",
       "      <td>3</td>\n",
       "    </tr>\n",
       "    <tr>\n",
       "      <th>3</th>\n",
       "      <td>9</td>\n",
       "      <td>14</td>\n",
       "      <td>4</td>\n",
       "    </tr>\n",
       "    <tr>\n",
       "      <th>4</th>\n",
       "      <td>10</td>\n",
       "      <td>15</td>\n",
       "      <td>5</td>\n",
       "    </tr>\n",
       "  </tbody>\n",
       "</table>\n",
       "</div>"
      ],
      "text/plain": [
       "   col2  col3  col1\n",
       "0     6    11     1\n",
       "1     7    12     2\n",
       "2     8    13     3\n",
       "3     9    14     4\n",
       "4    10    15     5"
      ]
     },
     "execution_count": 103,
     "metadata": {},
     "output_type": "execute_result"
    }
   ],
   "source": [
    "test2=test[test_col]\n",
    "test2"
   ]
  },
  {
   "cell_type": "code",
   "execution_count": 136,
   "id": "28b3ecb6-72a6-4a7b-991a-156639ab15cc",
   "metadata": {},
   "outputs": [],
   "source": [
    "SubAccount=pd.Series(\"test\",range(len(test2)))"
   ]
  },
  {
   "cell_type": "code",
   "execution_count": 135,
   "id": "a2a9a54a-e5d1-41b8-a194-be6646c3f793",
   "metadata": {},
   "outputs": [
    {
     "ename": "AttributeError",
     "evalue": "'DataFrame' object has no attribute 'row'",
     "output_type": "error",
     "traceback": [
      "\u001b[1;31m---------------------------------------------------------------------------\u001b[0m",
      "\u001b[1;31mAttributeError\u001b[0m                            Traceback (most recent call last)",
      "\u001b[1;32m~\\AppData\\Local\\Temp/ipykernel_13444/1985298324.py\u001b[0m in \u001b[0;36m<module>\u001b[1;34m\u001b[0m\n\u001b[1;32m----> 1\u001b[1;33m \u001b[0mtest2\u001b[0m\u001b[1;33m.\u001b[0m\u001b[0mrow\u001b[0m\u001b[1;33m\u001b[0m\u001b[1;33m\u001b[0m\u001b[0m\n\u001b[0m",
      "\u001b[1;32m~\\anaconda3\\lib\\site-packages\\pandas\\core\\generic.py\u001b[0m in \u001b[0;36m__getattr__\u001b[1;34m(self, name)\u001b[0m\n\u001b[0;32m   5485\u001b[0m         ):\n\u001b[0;32m   5486\u001b[0m             \u001b[1;32mreturn\u001b[0m \u001b[0mself\u001b[0m\u001b[1;33m[\u001b[0m\u001b[0mname\u001b[0m\u001b[1;33m]\u001b[0m\u001b[1;33m\u001b[0m\u001b[1;33m\u001b[0m\u001b[0m\n\u001b[1;32m-> 5487\u001b[1;33m         \u001b[1;32mreturn\u001b[0m \u001b[0mobject\u001b[0m\u001b[1;33m.\u001b[0m\u001b[0m__getattribute__\u001b[0m\u001b[1;33m(\u001b[0m\u001b[0mself\u001b[0m\u001b[1;33m,\u001b[0m \u001b[0mname\u001b[0m\u001b[1;33m)\u001b[0m\u001b[1;33m\u001b[0m\u001b[1;33m\u001b[0m\u001b[0m\n\u001b[0m\u001b[0;32m   5488\u001b[0m \u001b[1;33m\u001b[0m\u001b[0m\n\u001b[0;32m   5489\u001b[0m     \u001b[1;32mdef\u001b[0m \u001b[0m__setattr__\u001b[0m\u001b[1;33m(\u001b[0m\u001b[0mself\u001b[0m\u001b[1;33m,\u001b[0m \u001b[0mname\u001b[0m\u001b[1;33m:\u001b[0m \u001b[0mstr\u001b[0m\u001b[1;33m,\u001b[0m \u001b[0mvalue\u001b[0m\u001b[1;33m)\u001b[0m \u001b[1;33m->\u001b[0m \u001b[1;32mNone\u001b[0m\u001b[1;33m:\u001b[0m\u001b[1;33m\u001b[0m\u001b[1;33m\u001b[0m\u001b[0m\n",
      "\u001b[1;31mAttributeError\u001b[0m: 'DataFrame' object has no attribute 'row'"
     ]
    }
   ],
   "source": [
    "test2.row"
   ]
  },
  {
   "cell_type": "code",
   "execution_count": 137,
   "id": "1346c639-9309-4012-a71c-a3ef1a4528a7",
   "metadata": {},
   "outputs": [
    {
     "name": "stderr",
     "output_type": "stream",
     "text": [
      "C:\\Users\\54357\\AppData\\Local\\Temp/ipykernel_13444/1977748856.py:1: SettingWithCopyWarning: \n",
      "A value is trying to be set on a copy of a slice from a DataFrame.\n",
      "Try using .loc[row_indexer,col_indexer] = value instead\n",
      "\n",
      "See the caveats in the documentation: https://pandas.pydata.org/pandas-docs/stable/user_guide/indexing.html#returning-a-view-versus-a-copy\n",
      "  test2[\"Added\"]=SubAccount\n"
     ]
    }
   ],
   "source": [
    "test2[\"Added\"]=SubAccount"
   ]
  },
  {
   "cell_type": "code",
   "execution_count": 138,
   "id": "d86c7c91-f765-4d8d-92e7-494046e73120",
   "metadata": {},
   "outputs": [
    {
     "data": {
      "text/html": [
       "<div>\n",
       "<style scoped>\n",
       "    .dataframe tbody tr th:only-of-type {\n",
       "        vertical-align: middle;\n",
       "    }\n",
       "\n",
       "    .dataframe tbody tr th {\n",
       "        vertical-align: top;\n",
       "    }\n",
       "\n",
       "    .dataframe thead th {\n",
       "        text-align: right;\n",
       "    }\n",
       "</style>\n",
       "<table border=\"1\" class=\"dataframe\">\n",
       "  <thead>\n",
       "    <tr style=\"text-align: right;\">\n",
       "      <th></th>\n",
       "      <th>col2</th>\n",
       "      <th>col3</th>\n",
       "      <th>col1</th>\n",
       "      <th>Added</th>\n",
       "    </tr>\n",
       "  </thead>\n",
       "  <tbody>\n",
       "    <tr>\n",
       "      <th>0</th>\n",
       "      <td>6</td>\n",
       "      <td>11</td>\n",
       "      <td>testtt</td>\n",
       "      <td>test</td>\n",
       "    </tr>\n",
       "    <tr>\n",
       "      <th>1</th>\n",
       "      <td>7</td>\n",
       "      <td>12</td>\n",
       "      <td>2</td>\n",
       "      <td>test</td>\n",
       "    </tr>\n",
       "    <tr>\n",
       "      <th>2</th>\n",
       "      <td>8</td>\n",
       "      <td>13</td>\n",
       "      <td>3</td>\n",
       "      <td>test</td>\n",
       "    </tr>\n",
       "    <tr>\n",
       "      <th>3</th>\n",
       "      <td>9</td>\n",
       "      <td>14</td>\n",
       "      <td>4</td>\n",
       "      <td>test</td>\n",
       "    </tr>\n",
       "    <tr>\n",
       "      <th>4</th>\n",
       "      <td>10</td>\n",
       "      <td>15</td>\n",
       "      <td>5</td>\n",
       "      <td>test</td>\n",
       "    </tr>\n",
       "  </tbody>\n",
       "</table>\n",
       "</div>"
      ],
      "text/plain": [
       "   col2  col3    col1 Added\n",
       "0     6    11  testtt  test\n",
       "1     7    12       2  test\n",
       "2     8    13       3  test\n",
       "3     9    14       4  test\n",
       "4    10    15       5  test"
      ]
     },
     "execution_count": 138,
     "metadata": {},
     "output_type": "execute_result"
    }
   ],
   "source": [
    "test2"
   ]
  },
  {
   "cell_type": "code",
   "execution_count": 118,
   "id": "9f9e442c-7bf1-4189-a547-ecffad409c43",
   "metadata": {},
   "outputs": [
    {
     "data": {
      "text/plain": [
       "0    col3\n",
       "Name: test, dtype: object"
      ]
     },
     "execution_count": 118,
     "metadata": {},
     "output_type": "execute_result"
    }
   ],
   "source": [
    "serie"
   ]
  },
  {
   "cell_type": "code",
   "execution_count": 139,
   "id": "21ed5759-1198-4695-995f-32847a721d59",
   "metadata": {},
   "outputs": [],
   "source": [
    "DFTEST=MAIN[0]"
   ]
  },
  {
   "cell_type": "code",
   "execution_count": 141,
   "id": "d9d6d402-fefc-4f3c-bf41-36232dc01c72",
   "metadata": {},
   "outputs": [],
   "source": [
    "Acct=\"aixa\"\n",
    "serieAcct=pd.Series(Acct,range(len(DFTEST)))"
   ]
  },
  {
   "cell_type": "code",
   "execution_count": null,
   "id": "b248841e-6394-48f0-b102-bd70351fd610",
   "metadata": {},
   "outputs": [],
   "source": []
  },
  {
   "cell_type": "code",
   "execution_count": 174,
   "id": "c9f80c94-9ad9-4d99-8d03-d602595ccb1a",
   "metadata": {},
   "outputs": [
    {
     "data": {
      "text/plain": [
       "(1238, 71)"
      ]
     },
     "execution_count": 174,
     "metadata": {},
     "output_type": "execute_result"
    }
   ],
   "source": [
    "MAIN[0].shape"
   ]
  },
  {
   "cell_type": "code",
   "execution_count": null,
   "id": "8ded0b96-d895-4be7-8d4e-6ec84f10373d",
   "metadata": {},
   "outputs": [],
   "source": [
    "FullData.head(1240)"
   ]
  }
 ],
 "metadata": {
  "kernelspec": {
   "display_name": "Python 3 (ipykernel)",
   "language": "python",
   "name": "python3"
  },
  "language_info": {
   "codemirror_mode": {
    "name": "ipython",
    "version": 3
   },
   "file_extension": ".py",
   "mimetype": "text/x-python",
   "name": "python",
   "nbconvert_exporter": "python",
   "pygments_lexer": "ipython3",
   "version": "3.9.7"
  }
 },
 "nbformat": 4,
 "nbformat_minor": 5
}
